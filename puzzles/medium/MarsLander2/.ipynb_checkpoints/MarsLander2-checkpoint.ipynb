{
 "cells": [
  {
   "cell_type": "markdown",
   "metadata": {},
   "source": [
    "# Mars Lender Level 2"
   ]
  },
  {
   "cell_type": "code",
   "execution_count": 2,
   "metadata": {
    "collapsed": true
   },
   "outputs": [],
   "source": [
    "import numpy as np"
   ]
  },
  {
   "cell_type": "markdown",
   "metadata": {},
   "source": [
    "## Initial conditions\n",
    "\n",
    "<div style=\"float:left\"><img src=\"marslander.png\"></div>\n",
    "\n",
    "The zone is 7000m wide and 3000m high. There is a unique area of flat ground on the surface of Mars, which is at least 1000 meters wide.\n",
    "\n",
    "Every second, depending on the current flight parameters (location, speed, fuel ...), the program must provide the new desired tilt angle and thrust power of Mars Lander. Angle goes from -90$^{\\circ}$ to 90$^{\\circ}$. Thrust power goes from 0 to 4.\n",
    "\n",
    "The game simulates a free fall without atmosphere. Gravity on Mars is 3.711 m/s<sup>2</sup> . For a thrust power of X, a push force equivalent to X m/s<sup>2</sup> is generated and X liters of fuel are consumed. As such, a thrust power of 4 in an almost vertical position is needed to compensate for the gravity on Mars."
   ]
  },
  {
   "cell_type": "markdown",
   "metadata": {},
   "source": [
    "\n",
    "\n",
    "\n",
    "\n",
    "Input | Value\n",
    "------|------\n",
    "width | 7000\n",
    "hight |  3000\n",
    "nr. of flat ground | 1\n",
    "width of flat ground | 1000"
   ]
  },
  {
   "cell_type": "code",
   "execution_count": null,
   "metadata": {
    "collapsed": true
   },
   "outputs": [],
   "source": []
  }
 ],
 "metadata": {
  "celltoolbar": "Raw Cell Format",
  "kernelspec": {
   "display_name": "Python 2",
   "language": "python",
   "name": "python2"
  },
  "language_info": {
   "codemirror_mode": {
    "name": "ipython",
    "version": 2
   },
   "file_extension": ".py",
   "mimetype": "text/x-python",
   "name": "python",
   "nbconvert_exporter": "python",
   "pygments_lexer": "ipython2",
   "version": "2.7.11"
  }
 },
 "nbformat": 4,
 "nbformat_minor": 0
}
